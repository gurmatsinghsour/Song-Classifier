{
 "cells": [
  {
   "cell_type": "code",
   "execution_count": 18,
   "id": "5e7404bd",
   "metadata": {},
   "outputs": [
    {
     "name": "stdout",
     "output_type": "stream",
     "text": [
      "Collecting nltk\n",
      "  Downloading nltk-3.9.1-py3-none-any.whl.metadata (2.9 kB)\n",
      "Requirement already satisfied: click in /home/arcy/miniconda3/lib/python3.10/site-packages (from nltk) (8.1.8)\n",
      "Requirement already satisfied: joblib in /home/arcy/miniconda3/lib/python3.10/site-packages (from nltk) (1.4.2)\n",
      "Requirement already satisfied: regex>=2021.8.3 in /home/arcy/miniconda3/lib/python3.10/site-packages (from nltk) (2024.11.6)\n",
      "Requirement already satisfied: tqdm in /home/arcy/miniconda3/lib/python3.10/site-packages (from nltk) (4.67.1)\n",
      "Downloading nltk-3.9.1-py3-none-any.whl (1.5 MB)\n",
      "\u001b[2K   \u001b[38;2;114;156;31m━━━━━━━━━━━━━━━━━━━━━━━━━━━━━━━━━━━━━━━━\u001b[0m \u001b[32m1.5/1.5 MB\u001b[0m \u001b[31m42.7 MB/s\u001b[0m eta \u001b[36m0:00:00\u001b[0m\n",
      "\u001b[?25hInstalling collected packages: nltk\n",
      "Successfully installed nltk-3.9.1\n"
     ]
    }
   ],
   "source": [
    "!pip install nltk"
   ]
  },
  {
   "cell_type": "code",
   "execution_count": 1,
   "id": "b6334732",
   "metadata": {},
   "outputs": [],
   "source": [
    "import pandas as pd\n",
    "import re\n",
    "import joblib\n",
    "from sklearn.model_selection import train_test_split\n",
    "from sklearn.feature_extraction.text import TfidfVectorizer\n",
    "from sklearn.linear_model import LogisticRegression\n",
    "from sklearn.pipeline import Pipeline\n",
    "import nltk\n",
    "from nltk.corpus import stopwords\n",
    "from nltk.tokenize import word_tokenize\n",
    "from nltk.stem import WordNetLemmatizer\n",
    "import os"
   ]
  },
  {
   "cell_type": "code",
   "execution_count": null,
   "id": "307ec854",
   "metadata": {},
   "outputs": [
    {
     "data": {
      "text/plain": [
       "True"
      ]
     },
     "execution_count": 20,
     "metadata": {},
     "output_type": "execute_result"
    }
   ],
   "source": [
    "nltk.download('punkt', quiet=True)\n",
    "nltk.download('stopwords', quiet=True)\n",
    "nltk.download('wordnet', quiet=True)"
   ]
  },
  {
   "cell_type": "code",
   "execution_count": 2,
   "id": "866dbf3e",
   "metadata": {},
   "outputs": [
    {
     "data": {
      "text/plain": [
       "True"
      ]
     },
     "execution_count": 2,
     "metadata": {},
     "output_type": "execute_result"
    }
   ],
   "source": [
    "os.path.exists('../Model/label_to_genre.joblib') "
   ]
  },
  {
   "cell_type": "code",
   "execution_count": 21,
   "id": "ab4cad94",
   "metadata": {},
   "outputs": [],
   "source": [
    "# Load the lyrics_analyze DataFrame if not already loaded\n",
    "csv_path = '../Data/Data.csv'\n",
    "if not os.path.exists(csv_path):\n",
    "    raise FileNotFoundError(f\"File not found: {csv_path}. Please check the path and filename.\")\n",
    "lyrics_analyze = pd.read_csv(csv_path)  # Update the filename/path as needed"
   ]
  },
  {
   "cell_type": "code",
   "execution_count": 24,
   "id": "c726f19a",
   "metadata": {},
   "outputs": [],
   "source": [
    "def clean_and_prepare_data(filepath=csv_path):\n",
    "    df = pd.read_csv(filepath)\n",
    "    df.rename(columns={'type': 'genre'}, inplace=True)\n",
    "    genre_mapping = {'rap & hip hop': 'hiphop', 'R&B': 'rnb'}\n",
    "    df['genre'] = df['genre'].replace(genre_mapping)\n",
    "    df = df[['lyrics', 'genre']]\n",
    "\n",
    "    def clean_lyrics_text(text):\n",
    "        if not isinstance(text, str):\n",
    "            return \"\"\n",
    "        text = re.sub(r'http\\S+', '', text)\n",
    "        text = re.sub(r'\\[.*?\\]', '', text)\n",
    "        text = re.sub(r'\\s+', ' ', text).strip()\n",
    "        return text\n",
    "\n",
    "    df['lyrics'] = df['lyrics'].apply(clean_lyrics_text)\n",
    "    df.dropna(subset=['lyrics'], inplace=True)\n",
    "    df.drop_duplicates(subset=['lyrics'], inplace=True)\n",
    "    df = df[df['lyrics'].str.split().str.len() >= 5]\n",
    "    \n",
    "    df['genre_label'] = df['genre'].astype('category').cat.codes\n",
    "    \n",
    "    return df\n"
   ]
  },
  {
   "cell_type": "code",
   "execution_count": null,
   "id": "6ce99d88",
   "metadata": {},
   "outputs": [],
   "source": [
    "def train_and_save_model(df):\n",
    "    X = df['lyrics']\n",
    "    y = df['genre_label']\n",
    "    final_pipeline = Pipeline([\n",
    "        ('tfidf', TfidfVectorizer(\n",
    "            stop_words='english',\n",
    "            max_features=7500,\n",
    "            ngram_range=(1, 1),\n",
    "            norm='l2'\n",
    "        )),\n",
    "        ('clf', LogisticRegression(\n",
    "            C=1,\n",
    "            max_iter=2000, \n",
    "            random_state=42, \n",
    "            solver='liblinear'\n",
    "        ))\n",
    "    ])\n",
    "\n",
    "    print(\"Training the final model pipeline...\")\n",
    "    final_pipeline.fit(X, y)\n",
    "    print(\"Training complete.\")\n",
    "\n",
    "    model_filename = '../Model/logistic_regression_pipeline.joblib'\n",
    "    print(f\"Saving model to {model_filename}...\")\n",
    "    joblib.dump(final_pipeline, model_filename)\n",
    "    print(\"Model saved successfully!\")\n",
    "\n",
    "    label_to_genre = dict(enumerate(df['genre'].astype('category').cat.categories))\n",
    "    joblib.dump(label_to_genre, 'label_to_genre.joblib')\n",
    "    print(\"Label mapping saved to label_to_genre.joblib\")"
   ]
  },
  {
   "cell_type": "code",
   "execution_count": null,
   "id": "261a3a83",
   "metadata": {},
   "outputs": [
    {
     "name": "stdout",
     "output_type": "stream",
     "text": [
      "Training the final model pipeline...\n",
      "Training complete.\n",
      "Saving model to ../Model/logistic_regression_pipeline.joblib...\n",
      "Model saved successfully!\n",
      "Label mapping saved to label_to_genre.joblib\n"
     ]
    }
   ],
   "source": [
    "lyrics_df = clean_and_prepare_data()\n",
    "train_and_save_model(lyrics_df)"
   ]
  }
 ],
 "metadata": {
  "kernelspec": {
   "display_name": "Python (GPU - base)",
   "language": "python",
   "name": "base"
  },
  "language_info": {
   "codemirror_mode": {
    "name": "ipython",
    "version": 3
   },
   "file_extension": ".py",
   "mimetype": "text/x-python",
   "name": "python",
   "nbconvert_exporter": "python",
   "pygments_lexer": "ipython3",
   "version": "3.10.16"
  }
 },
 "nbformat": 4,
 "nbformat_minor": 5
}
