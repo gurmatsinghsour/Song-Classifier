{
  "cells": [
    {
      "cell_type": "code",
      "execution_count": 2,
      "metadata": {
        "id": "4vUzRgVhyR2W"
      },
      "outputs": [],
      "source": [
        "import numpy as np\n",
        "import pandas as pd\n",
        "import seaborn as sn\n",
        "import matplotlib.pyplot as plt\n",
        "from matplotlib import style\n",
        "style.use('dark_background')\n",
        "from sklearn.feature_extraction.text import TfidfVectorizer, CountVectorizer\n",
        "from sklearn.model_selection import train_test_split\n",
        "from sklearn.metrics import roc_auc_score, f1_score, confusion_matrix\n",
        "from sklearn.naive_bayes import MultinomialNB\n",
        "from sklearn import svm"
      ]
    },
    {
      "cell_type": "code",
      "execution_count": 3,
      "metadata": {
        "colab": {
          "base_uri": "https://localhost:8080/"
        },
        "id": "T7UHMCYm93BR",
        "outputId": "af5476ab-b1c4-4d0b-8132-891c68de445d"
      },
      "outputs": [
        {
          "name": "stderr",
          "output_type": "stream",
          "text": [
            "[nltk_data] Downloading package vader_lexicon to\n",
            "[nltk_data]     C:\\Users\\User\\AppData\\Roaming\\nltk_data...\n",
            "[nltk_data]   Package vader_lexicon is already up-to-date!\n"
          ]
        },
        {
          "data": {
            "text/plain": [
              "True"
            ]
          },
          "execution_count": 3,
          "metadata": {},
          "output_type": "execute_result"
        }
      ],
      "source": [
        "import nltk\n",
        "nltk.download('vader_lexicon')"
      ]
    },
    {
      "cell_type": "code",
      "execution_count": 4,
      "metadata": {
        "id": "NAXSTLH38NZH"
      },
      "outputs": [],
      "source": [
        "df = pd.read_csv('cleaned_rock_country_hiphop_rb.csv', encoding='ISO-8859-1')"
      ]
    },
    {
      "cell_type": "code",
      "execution_count": 5,
      "metadata": {
        "colab": {
          "base_uri": "https://localhost:8080/",
          "height": 206
        },
        "id": "NByLTS7z8Tgo",
        "outputId": "40da76bf-b787-4b9d-8310-4122e18fbc37"
      },
      "outputs": [
        {
          "data": {
            "text/html": [
              "<div>\n",
              "<style scoped>\n",
              "    .dataframe tbody tr th:only-of-type {\n",
              "        vertical-align: middle;\n",
              "    }\n",
              "\n",
              "    .dataframe tbody tr th {\n",
              "        vertical-align: top;\n",
              "    }\n",
              "\n",
              "    .dataframe thead th {\n",
              "        text-align: right;\n",
              "    }\n",
              "</style>\n",
              "<table border=\"1\" class=\"dataframe\">\n",
              "  <thead>\n",
              "    <tr style=\"text-align: right;\">\n",
              "      <th></th>\n",
              "      <th>song</th>\n",
              "      <th>artist</th>\n",
              "      <th>type</th>\n",
              "      <th>lyrics</th>\n",
              "      <th>contains_special_chars</th>\n",
              "    </tr>\n",
              "  </thead>\n",
              "  <tbody>\n",
              "    <tr>\n",
              "      <th>0</th>\n",
              "      <td>Stairway to Heaven</td>\n",
              "      <td>Led Zeppelin</td>\n",
              "      <td>rock</td>\n",
              "      <td>There's a lady who's sure all that glitters is...</td>\n",
              "      <td>False</td>\n",
              "    </tr>\n",
              "    <tr>\n",
              "      <th>1</th>\n",
              "      <td>Like A Rolling Stone</td>\n",
              "      <td>Dylan, Bob</td>\n",
              "      <td>rock</td>\n",
              "      <td>Once upon a time you dressed so fine Threw the...</td>\n",
              "      <td>False</td>\n",
              "    </tr>\n",
              "    <tr>\n",
              "      <th>2</th>\n",
              "      <td>Another Brick In The Wall</td>\n",
              "      <td>Pink Floyd</td>\n",
              "      <td>rock</td>\n",
              "      <td>We don't need no education We don't need no th...</td>\n",
              "      <td>False</td>\n",
              "    </tr>\n",
              "    <tr>\n",
              "      <th>3</th>\n",
              "      <td>Won't Get Fooled Again</td>\n",
              "      <td>Who</td>\n",
              "      <td>rock</td>\n",
              "      <td>We'll be fighting in the streets With our chil...</td>\n",
              "      <td>False</td>\n",
              "    </tr>\n",
              "    <tr>\n",
              "      <th>4</th>\n",
              "      <td>Hotel California</td>\n",
              "      <td>Eagles</td>\n",
              "      <td>rock</td>\n",
              "      <td>On a dark desert highway Cool wind in my hair ...</td>\n",
              "      <td>False</td>\n",
              "    </tr>\n",
              "  </tbody>\n",
              "</table>\n",
              "</div>"
            ],
            "text/plain": [
              "                        song        artist  type  \\\n",
              "0         Stairway to Heaven  Led Zeppelin  rock   \n",
              "1       Like A Rolling Stone    Dylan, Bob  rock   \n",
              "2  Another Brick In The Wall    Pink Floyd  rock   \n",
              "3     Won't Get Fooled Again           Who  rock   \n",
              "4           Hotel California        Eagles  rock   \n",
              "\n",
              "                                              lyrics  contains_special_chars  \n",
              "0  There's a lady who's sure all that glitters is...                   False  \n",
              "1  Once upon a time you dressed so fine Threw the...                   False  \n",
              "2  We don't need no education We don't need no th...                   False  \n",
              "3  We'll be fighting in the streets With our chil...                   False  \n",
              "4  On a dark desert highway Cool wind in my hair ...                   False  "
            ]
          },
          "execution_count": 5,
          "metadata": {},
          "output_type": "execute_result"
        }
      ],
      "source": [
        "df.head()"
      ]
    },
    {
      "cell_type": "code",
      "execution_count": 6,
      "metadata": {
        "id": "n9HV0u128Ut8"
      },
      "outputs": [],
      "source": [
        "from nltk.sentiment.vader import SentimentIntensityAnalyzer\n",
        "\n",
        "vader = SentimentIntensityAnalyzer()"
      ]
    },
    {
      "cell_type": "code",
      "execution_count": 7,
      "metadata": {
        "colab": {
          "base_uri": "https://localhost:8080/"
        },
        "id": "SyyXg0zFAVT2",
        "outputId": "1429220f-4b82-4f30-e089-06980c80efa8"
      },
      "outputs": [
        {
          "name": "stdout",
          "output_type": "stream",
          "text": [
            "\n",
            "Average Sentiment Scores by Category:\n",
            "             type       neg       neu       pos  compound\n",
            "0            R&B  0.070566  0.748777  0.180648  0.620482\n",
            "1        country  0.069941  0.778674  0.151384  0.579468\n",
            "2  rap & hip hop  0.130449  0.754710  0.114862 -0.197366\n",
            "3           rock  0.084960  0.762134  0.152925  0.430615\n"
          ]
        }
      ],
      "source": [
        "def get_vader_scores(text):\n",
        "    if pd.isna(text): return {'neg': None, 'neu': None, 'pos': None, 'compound': None}\n",
        "    return vader.polarity_scores(str(text))\n",
        "\n",
        "vader_scores = df['lyrics'].apply(get_vader_scores).apply(pd.Series)\n",
        "df = pd.concat([df, vader_scores], axis=1)\n",
        "\n",
        "category_sentiment = df.groupby('type')[['neg', 'neu', 'pos', 'compound']].mean().reset_index()\n",
        "\n",
        "category_sentiment = category_sentiment.loc[:,~category_sentiment.columns.duplicated()]\n",
        "\n",
        "print(\"\\nAverage Sentiment Scores by Category:\\n\", category_sentiment)"
      ]
    },
    {
      "cell_type": "code",
      "execution_count": 8,
      "metadata": {
        "colab": {
          "base_uri": "https://localhost:8080/",
          "height": 564
        },
        "id": "RzwBHpu1BNvb",
        "outputId": "90950319-8e4f-42f1-87c6-1ed71e50293d"
      },
      "outputs": [
        {
          "data": {
            "image/png": "[encoded data removed]",
            "text/plain": [
              "<Figure size 1000x600 with 1 Axes>"
            ]
          },
          "metadata": {},
          "output_type": "display_data"
        }
      ],
      "source": [
        "category_sentiment.set_index('type', inplace=True)\n",
        "category_sentiment.plot(kind='bar', figsize=(10, 6), rot=0)\n",
        "plt.title('Average Sentiment Scores by Category (VADER)')\n",
        "plt.xlabel('Category')\n",
        "plt.ylabel('Average Sentiment Score')\n",
        "plt.legend(title='Sentiment')\n",
        "plt.grid(axis='y')\n",
        "plt.show()"
      ]
    },
    {
      "cell_type": "markdown",
      "metadata": {
        "id": "s12wQzqOy-LO"
      },
      "source": [
        "VADER analysis shows that R&B and Country lyrics are generally more positive, while Rap/Hip Hop has the lowest sentiment, even trending negative overall. Rock sits somewhere in the middle, more positive than Rap/Hip Hop, but less so than R&B or Country"
      ]
    },
    {
      "cell_type": "code",
      "execution_count": 9,
      "metadata": {
        "id": "p4b3gdMEIQcH"
      },
      "outputs": [],
      "source": [
        "from sklearn.feature_extraction.text import CountVectorizer\n",
        "\n",
        "def get_top_words_by_category(df, column, category_column, top_n=10):\n",
        "    top_words = {}\n",
        "    vectorizer = CountVectorizer(stop_words='english')  # Remove common stop words\n",
        "    for category in df[category_column].unique():\n",
        "        # Filter lyrics by category\n",
        "        category_lyrics = df[df[category_column] == category][column].dropna().str.lower()\n",
        "        # Fit and transform the lyrics\n",
        "        word_counts = vectorizer.fit_transform(category_lyrics)\n",
        "        # Sum word frequencies\n",
        "        word_freq = word_counts.sum(axis=0).A1\n",
        "        # Get words and their frequencies\n",
        "        words = vectorizer.get_feature_names_out()\n",
        "        word_freq_dict = dict(zip(words, word_freq))\n",
        "        # Sort by frequency and get top N words\n",
        "        top_words[category] = sorted(word_freq_dict.items(), key=lambda x: x[1], reverse=True)[:top_n]\n",
        "    return top_words\n"
      ]
    },
    {
      "cell_type": "code",
      "execution_count": 10,
      "metadata": {},
      "outputs": [
        {
          "name": "stderr",
          "output_type": "stream",
          "text": [
            "[nltk_data] Downloading package stopwords to\n",
            "[nltk_data]     C:\\Users\\User\\AppData\\Roaming\\nltk_data...\n",
            "[nltk_data]   Unzipping corpora\\stopwords.zip.\n"
          ]
        },
        {
          "name": "stdout",
          "output_type": "stream",
          "text": [
            "\n",
            "Top words for rock:\n",
            "im: 1912\n",
            "dont: 1732\n",
            "oh: 1720\n",
            "love: 1678\n",
            "yeah: 1517\n",
            "got: 1493\n",
            "know: 1443\n",
            "like: 1230\n",
            "baby: 1084\n",
            "come: 1068\n",
            "\n",
            "Top words for country:\n",
            "im: 1942\n",
            "like: 1715\n",
            "love: 1696\n",
            "dont: 1689\n",
            "know: 1427\n",
            "got: 1422\n",
            "little: 1042\n",
            "time: 976\n",
            "man: 878\n",
            "oh: 821\n",
            "\n",
            "Top words for R&B:\n",
            "love: 3876\n",
            "im: 2840\n",
            "baby: 2838\n",
            "know: 2352\n",
            "dont: 2252\n",
            "oh: 2182\n",
            "like: 2111\n",
            "got: 1670\n",
            "youre: 1524\n",
            "yeah: 1506\n",
            "\n",
            "Top words for rap & hip hop:\n",
            "im: 5770\n",
            "like: 5118\n",
            "got: 3310\n",
            "feat: 2800\n",
            "dont: 2725\n",
            "know: 2701\n",
            "aint: 2018\n",
            "niggas: 1949\n",
            "cause: 1934\n",
            "man: 1887\n"
          ]
        }
      ],
      "source": [
        "from nltk.corpus import stopwords\n",
        "import re\n",
        "\n",
        "# Download stopwords if not already downloaded\n",
        "nltk.download('stopwords')\n",
        "\n",
        "def clean_lyrics(text):\n",
        "    if pd.isna(text):\n",
        "        return None\n",
        "    # Convert to lowercase\n",
        "    text = text.lower()\n",
        "    # Remove punctuation and special characters\n",
        "    text = re.sub(r'[^\\w\\s]', '', text)\n",
        "    # Remove stopwords\n",
        "    stop_words = set(stopwords.words('english'))\n",
        "    text = ' '.join(word for word in text.split() if word not in stop_words)\n",
        "    return text\n",
        "\n",
        "# Apply cleaning to the lyrics column\n",
        "df['cleaned_lyrics'] = df['lyrics'].apply(clean_lyrics)\n",
        "\n",
        "# Use the cleaned lyrics column in get_top_words_by_category\n",
        "top_words_by_category = get_top_words_by_category(df, column='cleaned_lyrics', category_column='type', top_n=10)\n",
        "\n",
        "# Print results\n",
        "for category, words in top_words_by_category.items():\n",
        "    print(f\"\\nTop words for {category}:\")\n",
        "    for word, freq in words:\n",
        "        print(f\"{word}: {freq}\")"
      ]
    },
    {
      "cell_type": "code",
      "execution_count": 11,
      "metadata": {},
      "outputs": [
        {
          "data": {
            "text/html": [
              "<div>\n",
              "<style scoped>\n",
              "    .dataframe tbody tr th:only-of-type {\n",
              "        vertical-align: middle;\n",
              "    }\n",
              "\n",
              "    .dataframe tbody tr th {\n",
              "        vertical-align: top;\n",
              "    }\n",
              "\n",
              "    .dataframe thead th {\n",
              "        text-align: right;\n",
              "    }\n",
              "</style>\n",
              "<table border=\"1\" class=\"dataframe\">\n",
              "  <thead>\n",
              "    <tr style=\"text-align: right;\">\n",
              "      <th></th>\n",
              "      <th>song</th>\n",
              "      <th>artist</th>\n",
              "      <th>type</th>\n",
              "      <th>lyrics</th>\n",
              "      <th>contains_special_chars</th>\n",
              "      <th>neg</th>\n",
              "      <th>neu</th>\n",
              "      <th>pos</th>\n",
              "      <th>compound</th>\n",
              "      <th>cleaned_lyrics</th>\n",
              "    </tr>\n",
              "  </thead>\n",
              "  <tbody>\n",
              "    <tr>\n",
              "      <th>0</th>\n",
              "      <td>Stairway to Heaven</td>\n",
              "      <td>Led Zeppelin</td>\n",
              "      <td>rock</td>\n",
              "      <td>There's a lady who's sure all that glitters is...</td>\n",
              "      <td>False</td>\n",
              "      <td>0.028</td>\n",
              "      <td>0.878</td>\n",
              "      <td>0.094</td>\n",
              "      <td>0.9653</td>\n",
              "      <td>theres lady whos sure glitters gold shes buyin...</td>\n",
              "    </tr>\n",
              "    <tr>\n",
              "      <th>1</th>\n",
              "      <td>Like A Rolling Stone</td>\n",
              "      <td>Dylan, Bob</td>\n",
              "      <td>rock</td>\n",
              "      <td>Once upon a time you dressed so fine Threw the...</td>\n",
              "      <td>False</td>\n",
              "      <td>0.107</td>\n",
              "      <td>0.809</td>\n",
              "      <td>0.084</td>\n",
              "      <td>-0.7488</td>\n",
              "      <td>upon time dressed fine threw bums dime prime d...</td>\n",
              "    </tr>\n",
              "    <tr>\n",
              "      <th>2</th>\n",
              "      <td>Another Brick In The Wall</td>\n",
              "      <td>Pink Floyd</td>\n",
              "      <td>rock</td>\n",
              "      <td>We don't need no education We don't need no th...</td>\n",
              "      <td>False</td>\n",
              "      <td>0.155</td>\n",
              "      <td>0.789</td>\n",
              "      <td>0.055</td>\n",
              "      <td>-0.9257</td>\n",
              "      <td>dont need education dont need thought control ...</td>\n",
              "    </tr>\n",
              "    <tr>\n",
              "      <th>3</th>\n",
              "      <td>Won't Get Fooled Again</td>\n",
              "      <td>Who</td>\n",
              "      <td>rock</td>\n",
              "      <td>We'll be fighting in the streets With our chil...</td>\n",
              "      <td>False</td>\n",
              "      <td>0.053</td>\n",
              "      <td>0.785</td>\n",
              "      <td>0.162</td>\n",
              "      <td>0.9848</td>\n",
              "      <td>well fighting streets children feet morals wor...</td>\n",
              "    </tr>\n",
              "    <tr>\n",
              "      <th>4</th>\n",
              "      <td>Hotel California</td>\n",
              "      <td>Eagles</td>\n",
              "      <td>rock</td>\n",
              "      <td>On a dark desert highway Cool wind in my hair ...</td>\n",
              "      <td>False</td>\n",
              "      <td>0.035</td>\n",
              "      <td>0.837</td>\n",
              "      <td>0.129</td>\n",
              "      <td>0.9769</td>\n",
              "      <td>dark desert highway cool wind hair warm smell ...</td>\n",
              "    </tr>\n",
              "  </tbody>\n",
              "</table>\n",
              "</div>"
            ],
            "text/plain": [
              "                        song        artist  type  \\\n",
              "0         Stairway to Heaven  Led Zeppelin  rock   \n",
              "1       Like A Rolling Stone    Dylan, Bob  rock   \n",
              "2  Another Brick In The Wall    Pink Floyd  rock   \n",
              "3     Won't Get Fooled Again           Who  rock   \n",
              "4           Hotel California        Eagles  rock   \n",
              "\n",
              "                                              lyrics  contains_special_chars  \\\n",
              "0  There's a lady who's sure all that glitters is...                   False   \n",
              "1  Once upon a time you dressed so fine Threw the...                   False   \n",
              "2  We don't need no education We don't need no th...                   False   \n",
              "3  We'll be fighting in the streets With our chil...                   False   \n",
              "4  On a dark desert highway Cool wind in my hair ...                   False   \n",
              "\n",
              "     neg    neu    pos  compound  \\\n",
              "0  0.028  0.878  0.094    0.9653   \n",
              "1  0.107  0.809  0.084   -0.7488   \n",
              "2  0.155  0.789  0.055   -0.9257   \n",
              "3  0.053  0.785  0.162    0.9848   \n",
              "4  0.035  0.837  0.129    0.9769   \n",
              "\n",
              "                                      cleaned_lyrics  \n",
              "0  theres lady whos sure glitters gold shes buyin...  \n",
              "1  upon time dressed fine threw bums dime prime d...  \n",
              "2  dont need education dont need thought control ...  \n",
              "3  well fighting streets children feet morals wor...  \n",
              "4  dark desert highway cool wind hair warm smell ...  "
            ]
          },
          "execution_count": 11,
          "metadata": {},
          "output_type": "execute_result"
        }
      ],
      "source": [
        "df.head()"
      ]
    },
    {
      "cell_type": "code",
      "execution_count": null,
      "metadata": {},
      "outputs": [
        {
          "name": "stdout",
          "output_type": "stream",
          "text": [
            "🌞 Top Positive Lyrics by Genre:\n",
            "\n",
            "             type  compound                                            preview\n",
            "0   rap & hip hop    1.0000  Ain't nobody dope as me; I'm just so fresh, so...\n",
            "1            rock    1.0000  that has had to come with the quarantine and t...\n",
            "2             R&B    1.0000  Ulysses  LyricsI was just passing the time of ...\n",
            "3             R&B    1.0000  What a pity!  I beg your pardon, my dear fello...\n",
            "4   rap & hip hop    1.0000  Ulysses  LyricsThe Mabbot street entrance of n...\n",
            "5         country    1.0000  Welcome to the Waking Up podcast. This is Sam ...\n",
            "6         country    1.0000  Ulysses  LyricsThe Mabbot street entrance of n...\n",
            "7   rap & hip hop    1.0000  Please, this shit's so fuckin' hard Helluva Be...\n",
            "8            rock    1.0000  High School Musical  LyricsCUT TO: EXT. SKI LO...\n",
            "9            rock    0.9999  Remarks on Climate Change at Georgetown Univer...\n",
            "10  rap & hip hop    0.9999  TAFF . Since you are on for versingrhetorish s...\n",
            "11           rock    0.9999  KIMMY: This is a year-round Christmas store? Y...\n",
            "12  rap & hip hop    0.9999  Yo, this is a lesson in friendship The depths ...\n",
            "13            R&B    0.9999  Unfinished LyricsThe Next Stage of Evolution: ...\n",
            "14  rap & hip hop    0.9998  Umm... Go head daddy!   I wanna lounge with yo...\n",
            "15           rock    0.9998  I like what youâre doing right now!  MAC: I ...\n",
            "16            R&B    0.9998  Shine bright like a diamond Shine bright like ...\n",
            "17  rap & hip hop    0.9998  Love & Hip Hop LyricsOnce upon a time long ago...\n",
            "18            R&B    0.9998  Detroit, Michigan The year? 1960 Motown Record...\n",
            "19  rap & hip hop    0.9998  When I'm alone in my room sometimes I stare at...\n",
            "20  rap & hip hop    0.9998  What up, kid? I know shit is rough doin' your ...\n",
            "21            R&B    0.9998  Measure for measure Your love's so much pleasu...\n",
            "22           rock    0.9998  Finnegans Wake  LyricsAs the lion in our tearg...\n",
            "23  rap & hip hop    0.9998  Love & Hip Hop LyricsOnce upon a time long ago...\n",
            "24            R&B    0.9997  I gave you love You did me wrong I didn't know...\n",
            "25            R&B    0.9997  When I say goodbye it is never for long 'Cause...\n",
            "26           rock    0.9997  Every night I'm lying in bed Holding you close...\n",
            "27            R&B    0.9997  We ah sip the Henny for the day baby Bad man, ...\n",
            "28            R&B    0.9997  Come and get your love Come and get your love ...\n",
            "29        country    0.9997  2014 Nominees LyricsBest Rap Album WINNER: Mac...\n",
            "30        country    0.9997  Well the truth Well it hurts to say I'm gonna ...\n",
            "31        country    0.9996  I don't want another heartbreak I don't need a...\n",
            "32        country    0.9996  First I get cold and hot Think I'm on fire, bu...\n",
            "33        country    0.9996  There's a lot of ways of saying What I want to...\n",
            "34           rock    0.9995  The lights are on, but you're not home Your mi...\n",
            "35           rock    0.9995  The 500 Greatest Songs of All Time Lyrics1. Li...\n",
            "36        country    0.9995  I am insensitive, I have a tendency to Pay mor...\n",
            "37           rock    0.9995  The 500 Greatest Songs of All Time Lyrics1. Li...\n",
            "38        country    0.9993  The Crying of Lot 49 Chapter 5 LyricsChapter 5...\n",
            "39        country    0.9993  It Must Be Love LyricsFirst I get cold then ho...\n",
            "\n",
            "🌧️ Top Negative Lyrics by Genre:\n",
            "\n",
            "             type  compound                                            preview\n",
            "0             R&B   -1.0000  and I said, this is crazy. This canât keep h...\n",
            "1            rock   -1.0000  0-9  10cc 10 Years 100 Demons 1000 Homo DJs 12...\n",
            "2            rock   -1.0000  ] ] ] ] ] ]   Ayyo, told you before.  Now you ...\n",
            "3            rock   -1.0000  0-9  10cc 10 Years 100 Demons 1000 Homo DJs 12...\n",
            "4   rap & hip hop   -0.9999  We chapters of the same book, just a different...\n",
            "5             R&B   -0.9999  Yo, Unanymous, I'll destroy his lyrics I don't...\n",
            "6   rap & hip hop   -0.9999  Let's get it started though Word is, you look ...\n",
            "7             R&B   -0.9999  Mirrors on the ceiling  the pink champagne on ...\n",
            "8   rap & hip hop   -0.9999  Who y'all talkin' to, man? Ugh Check it out, c...\n",
            "9   rap & hip hop   -0.9999  I said, welcome home Rone Feels like King Of T...\n",
            "10  rap & hip hop   -0.9999  \"All I see is murder murder, my mindstate\" \"Ma...\n",
            "11  rap & hip hop   -0.9999  LyricsBlack Moon - âReality â        Bundy...\n",
            "12  rap & hip hop   -0.9999  Right about now, N.W.A court is in full effect...\n",
            "13  rap & hip hop   -0.9999  I once knew a nigga whose real name was Willia...\n",
            "14  rap & hip hop   -0.9998  Bump a bitch LyricsIntro : Yeah ... Yeah ... K...\n",
            "15  rap & hip hop   -0.9998  My Rap CD Collection LyricsA  - Hempstead High...\n",
            "16            R&B   -0.9998  The Aeneid  LyricsBkX:1-95 The Council of the ...\n",
            "17        country   -0.9997  Shit happens, niggas want me to talk about it ...\n",
            "18            R&B   -0.9997  I don't love her I tried to tell myself But yo...\n",
            "19            R&B   -0.9995  You were the girl that changed my world You we...\n",
            "20            R&B   -0.9993  The Lies Weâve Told - Final Draft LyricsAuro...\n",
            "21            R&B   -0.9993  The Lies Weâve Told - Final Draft LyricsAuro...\n",
            "22            R&B   -0.9993  My dear-my dear-my dear you do not know me But...\n",
            "23           rock   -0.9992  You made a fool of me, but them broken dreams ...\n",
            "24           rock   -0.9991  When people keep repeating That you'll never f...\n",
            "25        country   -0.9990  I told Mary about us I told her about our grea...\n",
            "26           rock   -0.9988  No time left for you On my way to better thing...\n",
            "27            R&B   -0.9988  You can't live your life on a bus... EXT. CHUR...\n",
            "28           rock   -0.9988  Bitch motherfuckers trying to fake it trill Sn...\n",
            "29           rock   -0.9987  Aye aye for real for real This shit for real f...\n",
            "30           rock   -0.9986  Summertime, time, time Child, the living's eas...\n",
            "31           rock   -0.9983  Hmm, falling off Hmm, I'm falling off Hmm, I'm...\n",
            "32        country   -0.9981  Dear mama, I'm writin' you this letter from th...\n",
            "33        country   -0.9974  Well you know those times when you feel like t...\n",
            "34        country   -0.9970  I got a little drunk last night There's someth...\n",
            "35        country   -0.9967  I woke up at seven I said a prayer to the gods...\n",
            "36        country   -0.9959  Bet your window's rolled down and your hair's ...\n",
            "37        country   -0.9949  Fighting Side Of Me LyricsI hear people talkin...\n",
            "38        country   -0.9941  Poâ Folks Christmas LyricsThere's a whole lo...\n",
            "39        country   -0.9930  Something 'bout the way sheâs wearing her dr...\n"
          ]
        }
      ],
      "source": [
        "top_n = 10\n",
        "\n",
        "top_positive = (\n",
        "    df.sort_values(by='compound', ascending=False)\n",
        "      .groupby('type')\n",
        "      .head(top_n)\n",
        "      .reset_index(drop=True)\n",
        ")\n",
        "\n",
        "top_negative = (\n",
        "    df.sort_values(by='compound', ascending=True)\n",
        "      .groupby('type')\n",
        "      .head(top_n)\n",
        "      .reset_index(drop=True)\n",
        ")\n",
        "\n",
        "top_positive['preview'] = top_positive['lyrics'].str[:150] + '...'\n",
        "top_negative['preview'] = top_negative['lyrics'].str[:150] + '...'\n",
        "\n",
        "# Display results\n",
        "print(\"🌞 Top Positive Lyrics by Genre:\\n\")\n",
        "print(top_positive[['type', 'compound', 'preview']])\n",
        "\n",
        "print(\"\\n🌧️ Top Negative Lyrics by Genre:\\n\")\n",
        "print(top_negative[['type', 'compound', 'preview']])"
      ]
    },
    {
      "cell_type": "code",
      "execution_count": null,
      "metadata": {},
      "outputs": [],
      "source": []
    }
  ],
  "metadata": {
    "colab": {
      "provenance": []
    },
    "kernelspec": {
      "display_name": "base",
      "language": "python",
      "name": "python3"
    },
    "language_info": {
      "codemirror_mode": {
        "name": "ipython",
        "version": 3
      },
      "file_extension": ".py",
      "mimetype": "text/x-python",
      "name": "python",
      "nbconvert_exporter": "python",
      "pygments_lexer": "ipython3",
      "version": "3.12.7"
    }
  },
  "nbformat": 4,
  "nbformat_minor": 0
}
